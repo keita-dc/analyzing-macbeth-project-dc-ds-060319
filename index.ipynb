{
 "cells": [
  {
   "cell_type": "markdown",
   "metadata": {},
   "source": [
    "# Project: Analyzing Macbeth\n",
    "\n",
    "## Introduction\n",
    "For our first day and first data science project, we're going to do some rudimentry analysis of Shakespeare's classic play: Macbeth! You will get practice working with lists, condtionals and dictionaries, visualizing data, and thinking analytically about data.\n",
    "\n",
    "## Objectives\n",
    "You will be able to:\n",
    "* Show mastery of the content covered in this section\n",
    "\n",
    "## Getting the Data\n",
    "Here we start by importing a python package and using it to pull the transcript of Macbeth from the project Gutenberg website. We also preview a few details about what is now stored in the variable macbeth; it's a string with 119,846 characters, the first 500 of which are printed below. "
   ]
  },
  {
   "cell_type": "code",
   "execution_count": 38,
   "metadata": {},
   "outputs": [
    {
     "name": "stdout",
     "output_type": "stream",
     "text": [
      "<class 'str'>\n",
      "120253\n",
      "The Tragedie of Macbeth\r\n",
      "\r\n",
      "Actus Primus. Scoena Prima.\r\n",
      "\r\n",
      "Thunder and Lightning. Enter three Witches.\r\n",
      "\r\n",
      "  1. When shall we three meet againe?\r\n",
      "In Thunder, Lightning, or in Raine?\r\n",
      "  2. When the Hurley-burley's done,\r\n",
      "When the Battaile's lost, and wonne\r\n",
      "\r\n",
      "   3. That will be ere the set of Sunne\r\n",
      "\r\n",
      "   1. Where the place?\r\n",
      "  2. Vpon the Heath\r\n",
      "\r\n",
      "   3. There to meet with Macbeth\r\n",
      "\r\n",
      "   1. I come, Gray-Malkin\r\n",
      "\r\n",
      "   All. Padock calls anon: faire is foule, and foule is faire,\r\n",
      "Houer through the fogge and filthie ayre.\r\n",
      "\r\n",
      "Exeunt.\r\n",
      "\r\n",
      "\r\n",
      "Scena Secunda.\r\n",
      "\r\n",
      "Alarum within. Enter King, Malcome, Donalbaine, Lenox, with\r\n",
      "attendants, meeting a bleeding Captaine.\r\n",
      "\r\n",
      "  King. What bloody man is that? he can report,\r\n",
      "As seemeth by his plight, of the Reuolt\r\n",
      "The newest state\r\n",
      "\r\n",
      "   Mal. This is the Serieant,\r\n",
      "Who like a good and hardie Souldier fought\r\n",
      "'Gainst my Captiuitie: Haile braue friend;\r\n",
      "Say to the King, the knowledge of the Broyle,\r\n",
      "As thou didst leaue it\r\n",
      "\r\n",
      "   Cap. Doubtfull it stood,\r\n",
      "As two spent Swimmers, that doe cling together,\r\n",
      "And choake their Art: The mercilesse Macdonwald\r\n",
      "(Worthie to be a Rebell, for to that\r\n",
      "The multiplying Villanies of Nature\r\n",
      "Doe swarme vpon him) from the Westerne Isles\r\n",
      "Of Kernes and Gallowgrosses is supply'd,\r\n",
      "And Fortune on his damned Quarry smiling,\r\n",
      "Shew'd like a Rebells Whore: but all's too weake:\r\n",
      "For braue Macbeth (well hee deserues that Name)\r\n",
      "Disdayning Fortune, with his brandisht Steele,\r\n",
      "Which smoak'd with bloody execution\r\n",
      "(Like Valours Minion) caru'd out his passage,\r\n",
      "Till hee fac'd the Slaue:\r\n",
      "Which neu'r shooke hands, nor bad farwell to him,\r\n",
      "Till he vnseam'd him from the Naue toth' Chops,\r\n",
      "And fix'd his Head vpon our Battlements\r\n",
      "\r\n",
      "   King. O valiant Cousin, worthy Gentleman\r\n",
      "\r\n",
      "   Cap. As whence the Sunne 'gins his reflection,\r\n",
      "Shipwracking Stormes, and direfull Thunders:\r\n",
      "So from that Spring, whence comfort seem'd to come,\r\n",
      "Discomfort swells: Marke King of Scotland, marke,\r\n",
      "No sooner Iustice had, with Valour arm'd,\r\n",
      "Compell'd these skipping Kernes to trust their heeles,\r\n",
      "But the Norweyan Lord, surueying vantage,\r\n",
      "With furbusht Armes, and new supplyes of men,\r\n",
      "Began a fresh assault\r\n",
      "\r\n",
      "   King. Dismay'd not this our Captaines, Macbeth and\r\n",
      "Banquoh?\r\n",
      "  Cap. Yes, as Sparrowes, Eagles;\r\n",
      "Or the Hare, the Lyon:\r\n",
      "If I say sooth, I must report they were\r\n",
      "As Cannons ouer-charg'd with double Cracks,\r\n",
      "So they doubly redoubled stroakes vpon the Foe:\r\n",
      "Except they meant to bathe in reeking Wounds,\r\n",
      "Or memorize another Golgotha,\r\n",
      "I cannot tell: but I am faint,\r\n",
      "My Gashes cry for helpe\r\n",
      "\r\n",
      "   King. So well thy words become thee, as thy wounds,\r\n",
      "They smack of Honor both: Goe get him Surgeons.\r\n",
      "Enter Rosse and Angus.\r\n",
      "\r\n",
      "Who comes here?\r\n",
      "  Mal. The worthy Thane of Rosse\r\n",
      "\r\n",
      "   Lenox. What a haste lookes through his eyes?\r\n",
      "So should he looke, that seemes to speake things strange\r\n",
      "\r\n",
      "   Rosse. God saue the King\r\n",
      "\r\n",
      "   King. Whence cam'st thou, worthy Thane?\r\n",
      "  Rosse. From Fiffe, great King,\r\n",
      "Where the Norweyan Banners flowt the Skie,\r\n",
      "And fanne our people cold.\r\n",
      "Norway himselfe, with terrible numbers,\r\n",
      "Assisted by that most disloyall Traytor,\r\n",
      "The Thane of Cawdor, began a dismall Conflict,\r\n",
      "Till that Bellona's Bridegroome, lapt in proofe,\r\n",
      "Confronted him with selfe-comparisons,\r\n",
      "Point against Point, rebellious Arme 'gainst Arme,\r\n",
      "Curbing his lauish spirit: and to conclude,\r\n",
      "The Vict\n"
     ]
    }
   ],
   "source": [
    "import requests\n",
    "macbeth = requests.get('http://www.gutenberg.org/cache/epub/2264/pg2264.txt').text\n",
    "\n",
    "print(type(macbeth))\n",
    "print(len(macbeth))\n",
    "print(macbeth[16648:20000])"
   ]
  },
  {
   "cell_type": "markdown",
   "metadata": {},
   "source": [
    "## Your Task\n",
    "\n",
    "Your task is to create a bar graph of the 25 most common words in Shakespeare's Macbeth.  \n",
    "\n",
    "\n",
    "A common python programming pattern to counting objects, produce histograms, or update statistics is to make calls to a dictionary as you iterate through a list. For example, given a list of words, you can create a dictionary to store counts and then iterate through the list of words, checking how many times each word has appeared using your dictionary, and updating the dictionary count now that you've seen that word again. The `dictionary.get()` method is very useful in doing this. Read the docstring for the dictionary.get() method and use it along with the pseudocode above to create a bar graph of the 25 most common words from the transcript of Macbeth which has been loaded into a variable 'Macbeth'. Be sure to include a title and appropriate labels for your graph."
   ]
  },
  {
   "cell_type": "code",
   "execution_count": 36,
   "metadata": {},
   "outputs": [],
   "source": [
    "import re\n",
    "\n",
    "macbeth = re.split(r\"-| ,.\\r\\n?!\", macbeth)"
   ]
  },
  {
   "cell_type": "code",
   "execution_count": 37,
   "metadata": {},
   "outputs": [
    {
     "data": {
      "text/plain": [
       "[\"\\ufeff\\r\\n\\r\\n***The Project Gutenberg's Etext of Shakespeare's First Folio***\\r\\n********************The Tragedie of Macbeth*********************\\r\\n\\r\\n\\r\\n\\r\\n*******************************************************************\\r\\nTHIS EBOOK WAS ONE OF PROJECT GUTENBERG'S EARLY FILES PRODUCED AT A\\r\\nTIME WHEN PROOFING METHODS AND TOOLS WERE NOT WELL DEVELOPED. THERE\\r\\nIS AN IMPROVED EDITION OF THIS TITLE WHICH MAY BE VIEWED AS EBOOK\\r\\n(#1533) at https://www.gutenberg.org/ebooks/1533\\r\\n*******************************************************************\\r\\n\\r\\n\\r\\n\\r\\nThis is our 3rd edition of most of these plays.  See the index.\\r\\n\\r\\n\\r\\nCopyright laws are changing all over the world, be sure to check\\r\\nthe copyright laws for your country before posting these files!!\\r\\n\\r\\nPlease take a look at the important information in this header.\\r\\nWe encourage you to keep this file on your own disk, keeping an\\r\\nelectronic path open for the next readers.  Do not remove this.\\r\\n\\r\\n\\r\\n**Welcome To The World of Free Plain Vanilla Electronic Texts**\\r\\n\\r\\n**Etexts Readable By Both Humans and By Computers, Since 1971**\\r\\n\\r\\n*These Etexts Prepared By Hundreds of Volunteers and Donations*\\r\\n\\r\\nInformation on contacting Project Gutenberg to get Etexts, and\\r\\nfurther information is included below.  We need your donations.\\r\\n\\r\\n\\r\\nThe Tragedie of Macbeth\\r\\n\\r\\nby William Shakespeare\\r\\n\\r\\nJuly, 2000  [Etext #2264]\\r\\n\\r\\n\\r\\n***The Project Gutenberg's Etext of Shakespeare's First Folio***\\r\\n********************The Tragedie of Macbeth*********************\\r\\n\\r\\n*****This file should be named 2264.txt or 2264.zip******\\r\\n\\r\\nProject Gutenberg Etexts are usually created from multiple editions,\\r\\nall of which are in the Public Domain in the United States, unless a\\r\\ncopyright notice is included.  Therefore, we usually do NOT keep any\\r\\nof these books in compliance with any particular paper edition.\\r\\n\\r\\n\\r\\nWe are now trying to release all our books one month in advance\\r\\nof the official release dates, leaving time for better editing.\\r\\n\\r\\nPlease note:  neither this list nor its contents are final till\\r\\nmidnight of the last day of the month of any such announcement.\\r\\nThe official release date of all Project Gutenberg Etexts is at\\r\\nMidnight, Central Time, of the last day of the stated month.  A\\r\\npreliminary version may often be posted for suggestion, comment\\r\\nand editing by those who wish to do so.  To be sure you have an\\r\\nup to date first edition [xxxxx10x.xxx] please check file sizes\\r\\nin the first week of the next month.  Since our ftp program has\\r\\na bug in it that scrambles the date [tried to fix and failed] a\\r\\nlook at the file size will have to do, but we will try to see a\\r\\nnew copy has at least one byte more or less.\\r\\n\\r\\n\\r\\nInformation about Project Gutenberg (one page)\\r\\n\\r\\nWe produce about two million dollars for each hour we work.  The\\r\\ntime it takes us, a rather conservative estimate, is fifty hours\\r\\nto get any etext selected, entered, proofread, edited, copyright\\r\\nsearched and analyzed, the copyright letters written, etc.  This\\r\\nprojected audience is one hundred million readers.  If our value\\r\\nper text is nominally estimated at one dollar then we produce $2\\r\\nmillion dollars per hour this year as we release thirty\",\n",
       " 'six text\\r\\nfiles per month, or 432 more Etexts in 1999 for a total of 2000+\\r\\nIf these reach just 10% of the computerized population, then the\\r\\ntotal should reach over 200 billion Etexts given away this year.\\r\\n\\r\\nThe Goal of Project Gutenberg is to Give Away One Trillion Etext\\r\\nFiles by December 31, 2001.  [10,000 x 100,000,000 = 1 Trillion]\\r\\nThis is ten thousand titles each to one hundred million readers,\\r\\nwhich is only ~5% of the present number of computer users.\\r\\n\\r\\nAt our revised rates of production, we will reach only one',\n",
       " \"third\\r\\nof that goal by the end of 2001, or about 3,333 Etexts unless we\\r\\nmanage to get some real funding; currently our funding is mostly\\r\\nfrom Michael Hart's salary at Carnegie\",\n",
       " 'Mellon University, and an\\r\\nassortment of sporadic gifts; this salary is only good for a few\\r\\nmore years, so we are looking for something to replace it, as we\\r\\ndon\\'t want Project Gutenberg to be so dependent on one person.\\r\\n\\r\\nWe need your donations more than ever!\\r\\n\\r\\n\\r\\nAll donations should be made to \"Project Gutenberg/CMU\": and are\\r\\ntax deductible to the extent allowable by law.  (CMU = Carnegie',\n",
       " '\\r\\nMellon University).\\r\\n\\r\\nFor these and other matters, please mail to:\\r\\n\\r\\nProject Gutenberg\\r\\nP. O. Box  2782\\r\\nChampaign, IL 61825\\r\\n\\r\\nWhen all other email fails. . .try our Executive Director:\\r\\nMichael S. Hart <hart@pobox.com>\\r\\nhart@pobox.com forwards to hart@prairienet.org and archive.org\\r\\nif your mail bounces from archive.org, I will still see it, if\\r\\nit bounces from prairienet.org, better resend later on. . . .\\r\\n\\r\\nWe would prefer to send you this information by email.\\r\\n\\r\\n******\\r\\n\\r\\nTo access Project Gutenberg etexts, use any Web browser\\r\\nto view http://promo.net/pg.  This site lists Etexts by\\r\\nauthor and by title, and includes information about how\\r\\nto get involved with Project Gutenberg.  You could also\\r\\ndownload our past Newsletters, or subscribe here.  This\\r\\nis one of our major sites, please email hart@pobox.com,\\r\\nfor a more complete list of our various sites.\\r\\n\\r\\nTo go directly to the etext collections, use FTP or any\\r\\nWeb browser to visit a Project Gutenberg mirror (mirror\\r\\nsites are available on 7 continents; mirrors are listed\\r\\nat http://promo.net/pg).\\r\\n\\r\\nMac users, do NOT point and click, typing works better.\\r\\n\\r\\nExample FTP session:\\r\\n\\r\\nftp sunsite.unc.edu\\r\\nlogin: anonymous\\r\\npassword: your@login\\r\\ncd pub/docs/books/gutenberg\\r\\ncd etext90 through etext99\\r\\ndir [to see files]\\r\\nget or mget [to get files. . .set bin for zip files]\\r\\nGET GUTINDEX.??  [to get a year\\'s listing of books, e.g., GUTINDEX.99]\\r\\nGET GUTINDEX.ALL [to get a listing of ALL books]\\r\\n\\r\\n***\\r\\n\\r\\n**Information prepared by the Project Gutenberg legal advisor**\\r\\n\\r\\n(Three Pages)\\r\\n\\r\\n\\r\\n***START**THE SMALL PRINT!**FOR PUBLIC DOMAIN ETEXTS**START***\\r\\nWhy is this \"Small Print!\" statement here?  You know: lawyers.\\r\\nThey tell us you might sue us if there is something wrong with\\r\\nyour copy of this etext, even if you got it for free from\\r\\nsomeone other than us, and even if what\\'s wrong is not our\\r\\nfault.  So, among other things, this \"Small Print!\" statement\\r\\ndisclaims most of our liability to you.  It also tells you how\\r\\nyou can distribute copies of this etext if you want to.\\r\\n\\r\\n*BEFORE!* YOU USE OR READ THIS ETEXT\\r\\nBy using or reading any part of this PROJECT GUTENBERG',\n",
       " 'tm\\r\\netext, you indicate that you understand, agree to and accept\\r\\nthis \"Small Print!\" statement.  If you do not, you can receive\\r\\na refund of the money (if any) you paid for this etext by\\r\\nsending a request within 30 days of receiving it to the person\\r\\nyou got it from.  If you received this etext on a physical\\r\\nmedium (such as a disk), you must return it with your request.\\r\\n\\r\\nABOUT PROJECT GUTENBERG',\n",
       " 'TM ETEXTS\\r\\nThis PROJECT GUTENBERG',\n",
       " 'tm etext, like most PROJECT GUTENBERG',\n",
       " '\\r\\ntm etexts, is a \"public domain\" work distributed by Professor\\r\\nMichael S. Hart through the Project Gutenberg Association at\\r\\nCarnegie',\n",
       " 'Mellon University (the \"Project\").  Among other\\r\\nthings, this means that no one owns a United States copyright\\r\\non or for this work, so the Project (and you!) can copy and\\r\\ndistribute it in the United States without permission and\\r\\nwithout paying copyright royalties.  Special rules, set forth\\r\\nbelow, apply if you wish to copy and distribute this etext\\r\\nunder the Project\\'s \"PROJECT GUTENBERG\" trademark.\\r\\n\\r\\nTo create these etexts, the Project expends considerable\\r\\nefforts to identify, transcribe and proofread public domain\\r\\nworks.  Despite these efforts, the Project\\'s etexts and any\\r\\nmedium they may be on may contain \"Defects\".  Among other\\r\\nthings, Defects may take the form of incomplete, inaccurate or\\r\\ncorrupt data, transcription errors, a copyright or other\\r\\nintellectual property infringement, a defective or damaged\\r\\ndisk or other etext medium, a computer virus, or computer\\r\\ncodes that damage or cannot be read by your equipment.\\r\\n\\r\\nLIMITED WARRANTY; DISCLAIMER OF DAMAGES\\r\\nBut for the \"Right of Replacement or Refund\" described below,\\r\\n[1] the Project (and any other party you may receive this\\r\\netext from as a PROJECT GUTENBERG',\n",
       " 'tm etext) disclaims all\\r\\nliability to you for damages, costs and expenses, including\\r\\nlegal fees, and [2] YOU HAVE NO REMEDIES FOR NEGLIGENCE OR\\r\\nUNDER STRICT LIABILITY, OR FOR BREACH OF WARRANTY OR CONTRACT,\\r\\nINCLUDING BUT NOT LIMITED TO INDIRECT, CONSEQUENTIAL, PUNITIVE\\r\\nOR INCIDENTAL DAMAGES, EVEN IF YOU GIVE NOTICE OF THE\\r\\nPOSSIBILITY OF SUCH DAMAGES.\\r\\n\\r\\nIf you discover a Defect in this etext within 90 days of\\r\\nreceiving it, you can receive a refund of the money (if any)\\r\\nyou paid for it by sending an explanatory note within that\\r\\ntime to the person you received it from.  If you received it\\r\\non a physical medium, you must return it with your note, and\\r\\nsuch person may choose to alternatively give you a replacement\\r\\ncopy.  If you received it electronically, such person may\\r\\nchoose to alternatively give you a second opportunity to\\r\\nreceive it electronically.\\r\\n\\r\\nTHIS ETEXT IS OTHERWISE PROVIDED TO YOU \"AS',\n",
       " 'IS\".  NO OTHER\\r\\nWARRANTIES OF ANY KIND, EXPRESS OR IMPLIED, ARE MADE TO YOU AS\\r\\nTO THE ETEXT OR ANY MEDIUM IT MAY BE ON, INCLUDING BUT NOT\\r\\nLIMITED TO WARRANTIES OF MERCHANTABILITY OR FITNESS FOR A\\r\\nPARTICULAR PURPOSE.\\r\\n\\r\\nSome states do not allow disclaimers of implied warranties or\\r\\nthe exclusion or limitation of consequential damages, so the\\r\\nabove disclaimers and exclusions may not apply to you, and you\\r\\nmay have other legal rights.\\r\\n\\r\\nINDEMNITY\\r\\nYou will indemnify and hold the Project, its directors,\\r\\nofficers, members and agents harmless from all liability, cost\\r\\nand expense, including legal fees, that arise directly or\\r\\nindirectly from any of the following that you do or cause:\\r\\n[1] distribution of this etext, [2] alteration, modification,\\r\\nor addition to the etext, or [3] any Defect.\\r\\n\\r\\nDISTRIBUTION UNDER \"PROJECT GUTENBERG',\n",
       " 'tm\"\\r\\nYou may distribute copies of this etext electronically, or by\\r\\ndisk, book or any other medium if you either delete this\\r\\n\"Small Print!\" and all other references to Project Gutenberg,\\r\\nor:\\r\\n\\r\\n[1]  Only give exact copies of it.  Among other things, this\\r\\n     requires that you do not remove, alter or modify the\\r\\n     etext or this \"small print!\" statement.  You may however,\\r\\n     if you wish, distribute this etext in machine readable\\r\\n     binary, compressed, mark',\n",
       " 'up, or proprietary form,\\r\\n     including any form resulting from conversion by word pro',\n",
       " '\\r\\n     cessing or hypertext software, but only so long as\\r\\n     *EITHER*:\\r\\n\\r\\n     [*]  The etext, when displayed, is clearly readable, and\\r\\n          does *not* contain characters other than those\\r\\n          intended by the author of the work, although tilde\\r\\n          (~), asterisk (*) and underline (_) characters may\\r\\n          be used to convey punctuation intended by the\\r\\n          author, and additional characters may be used to\\r\\n          indicate hypertext links; OR\\r\\n\\r\\n     [*]  The etext may be readily converted by the reader at\\r\\n          no expense into plain ASCII, EBCDIC or equivalent\\r\\n          form by the program that displays the etext (as is\\r\\n          the case, for instance, with most word processors);\\r\\n          OR\\r\\n\\r\\n     [*]  You provide, or agree to also provide on request at\\r\\n          no additional cost, fee or expense, a copy of the\\r\\n          etext in its original plain ASCII form (or in EBCDIC\\r\\n          or other equivalent proprietary form).\\r\\n\\r\\n[2]  Honor the etext refund and replacement provisions of this\\r\\n     \"Small Print!\" statement.\\r\\n\\r\\n[3]  Pay a trademark license fee to the Project of 20% of the\\r\\n     net profits you derive calculated using the method you\\r\\n     already use to calculate your applicable taxes.  If you\\r\\n     don\\'t derive profits, no royalty is due.  Royalties are\\r\\n     payable to \"Project Gutenberg Association/Carnegie',\n",
       " 'Mellon\\r\\n     University\" within the 60 days following each\\r\\n     date you prepare (or were legally required to prepare)\\r\\n     your annual (or equivalent periodic) tax return.\\r\\n\\r\\nWHAT IF YOU *WANT* TO SEND MONEY EVEN IF YOU DON\\'T HAVE TO?\\r\\nThe Project gratefully accepts contributions in money, time,\\r\\nscanning machines, OCR software, public domain etexts, royalty\\r\\nfree copyright licenses, and every other sort of contribution\\r\\nyou can think of.  Money should be paid to \"Project Gutenberg\\r\\nAssociation / Carnegie',\n",
       " 'Mellon University\".\\r\\n\\r\\n*END*THE SMALL PRINT! FOR PUBLIC DOMAIN ETEXTS*Ver.04.29.93*END*\\r\\n\\r\\n\\r\\n\\r\\n\\r\\n\\r\\nProject Gutenberg\\'s Etext of Shakespeare\\'s The Tragedie of Macbeth\\r\\n\\r\\n\\r\\n\\r\\n\\r\\n\\r\\nExecutive Director\\'s Notes:\\r\\n\\r\\nIn addition to the notes below, and so you will *NOT* think all\\r\\nthe spelling errors introduced by the printers of the time have\\r\\nbeen corrected, here are the first few lines of Hamlet, as they\\r\\nare presented herein:\\r\\n\\r\\n  Barnardo. Who\\'s there?\\r\\n  Fran. Nay answer me: Stand & vnfold\\r\\nyour selfe\\r\\n\\r\\n   Bar. Long liue the King\\r\\n\\r\\n***\\r\\n\\r\\nAs I understand it, the printers often ran out of certain words\\r\\nor letters they had often packed into a \"cliche\". . .this is the\\r\\noriginal meaning of the term cliche. . .and thus, being unwilling\\r\\nto unpack the cliches, and thus you will see some substitutions\\r\\nthat look very odd. . .such as the exchanges of u for v, v for u,\\r\\nabove. . .and you may wonder why they did it this way, presuming\\r\\nShakespeare did not actually write the play in this manner. . . .\\r\\n\\r\\nThe answer is that they MAY have packed \"liue\" into a cliche at a\\r\\ntime when they were out of \"v\"\\'s. . .possibly having used \"vv\" in\\r\\nplace of some \"w\"\\'s, etc.  This was a common practice of the day,\\r\\nas print was still quite expensive, and they didn\\'t want to spend\\r\\nmore on a wider selection of characters than they had to.\\r\\n\\r\\nYou will find a lot of these kinds of \"errors\" in this text, as I\\r\\nhave mentioned in other times and places, many \"scholars\" have an\\r\\nextreme attachment to these errors, and many have accorded them a\\r\\nvery high place in the \"canon\" of Shakespeare.  My father read an\\r\\nassortment of these made available to him by Cambridge University\\r\\nin England for several months in a glass room constructed for the\\r\\npurpose.  To the best of my knowledge he read ALL those available\\r\\n. . .in great detail. . .and determined from the various changes,\\r\\nthat Shakespeare most likely did not write in nearly as many of a\\r\\nvariety of errors we credit him for, even though he was in/famous\\r\\nfor signing his name with several different spellings.\\r\\n\\r\\nSo, please take this into account when reading the comments below\\r\\nmade by our volunteer who prepared this file:  you may see errors\\r\\nthat are \"not\" errors. . . .\\r\\n\\r\\nSo. . .with this caveat. . .we have NOT changed the canon errors,\\r\\nhere is the Project Gutenberg Etext of Shakespeare\\'s The Tragedie\\r\\nof Macbeth.\\r\\n\\r\\nMichael S. Hart\\r\\nProject Gutenberg\\r\\nExecutive Director\\r\\n\\r\\n\\r\\n***\\r\\n\\r\\n\\r\\nScanner\\'s Notes: What this is and isn\\'t.  This was taken from\\r\\na copy of Shakespeare\\'s first folio and it is as close as I can\\r\\ncome in ASCII to the printed text.\\r\\n\\r\\nThe elongated S\\'s have been changed to small s\\'s and the\\r\\nconjoined ae have been changed to ae.  I have left the spelling,\\r\\npunctuation, capitalization as close as possible to the\\r\\nprinted text.  I have corrected some spelling mistakes (I have put\\r\\ntogether a spelling dictionary devised from the spellings of the\\r\\nGeneva Bible and Shakespeare\\'s First Folio and have unified\\r\\nspellings according to this template), typo\\'s and expanded\\r\\nabbreviations as I have come across them.  Everything within\\r\\nbrackets [] is what I have added.  So if you don\\'t like that\\r\\nyou can delete everything within the brackets if you want a\\r\\npurer Shakespeare.\\r\\n\\r\\nAnother thing that you should be aware of is that there are textual\\r\\ndifferences between various copies of the first folio.  So there may\\r\\nbe differences (other than what I have mentioned above) between\\r\\nthis and other first folio editions.  This is due to the printer\\'s\\r\\nhabit of setting the type and running off a number of copies and\\r\\nthen proofing the printed copy and correcting the type and then\\r\\ncontinuing the printing run.  The proof run wasn\\'t thrown away but\\r\\nincorporated into the printed copies.  This is just the way it is.\\r\\nThe text I have used was a composite of more than 30 different\\r\\nFirst Folio editions\\' best pages.\\r\\n\\r\\nIf you find any scanning errors, out and out typos, punctuation\\r\\nerrors, or if you disagree with my spelling choices please feel\\r\\nfree to email me those errors.  I wish to make this the best\\r\\netext possible.  My email address for right now are haradda@aol.com\\r\\nand davidr@inconnect.com.  I hope that you enjoy this.\\r\\n\\r\\nDavid Reed\\r\\n\\r\\nThe Tragedie of Macbeth\\r\\n\\r\\nActus Primus. Scoena Prima.\\r\\n\\r\\nThunder and Lightning. Enter three Witches.\\r\\n\\r\\n  1. When shall we three meet againe?\\r\\nIn Thunder, Lightning, or in Raine?\\r\\n  2. When the Hurley',\n",
       " \"burley's done,\\r\\nWhen the Battaile's lost, and wonne\\r\\n\\r\\n   3. That will be ere the set of Sunne\\r\\n\\r\\n   1. Where the place?\\r\\n  2. Vpon the Heath\\r\\n\\r\\n   3. There to meet with Macbeth\\r\\n\\r\\n   1. I come, Gray\",\n",
       " \"Malkin\\r\\n\\r\\n   All. Padock calls anon: faire is foule, and foule is faire,\\r\\nHouer through the fogge and filthie ayre.\\r\\n\\r\\nExeunt.\\r\\n\\r\\n\\r\\nScena Secunda.\\r\\n\\r\\nAlarum within. Enter King, Malcome, Donalbaine, Lenox, with\\r\\nattendants, meeting a bleeding Captaine.\\r\\n\\r\\n  King. What bloody man is that? he can report,\\r\\nAs seemeth by his plight, of the Reuolt\\r\\nThe newest state\\r\\n\\r\\n   Mal. This is the Serieant,\\r\\nWho like a good and hardie Souldier fought\\r\\n'Gainst my Captiuitie: Haile braue friend;\\r\\nSay to the King, the knowledge of the Broyle,\\r\\nAs thou didst leaue it\\r\\n\\r\\n   Cap. Doubtfull it stood,\\r\\nAs two spent Swimmers, that doe cling together,\\r\\nAnd choake their Art: The mercilesse Macdonwald\\r\\n(Worthie to be a Rebell, for to that\\r\\nThe multiplying Villanies of Nature\\r\\nDoe swarme vpon him) from the Westerne Isles\\r\\nOf Kernes and Gallowgrosses is supply'd,\\r\\nAnd Fortune on his damned Quarry smiling,\\r\\nShew'd like a Rebells Whore: but all's too weake:\\r\\nFor braue Macbeth (well hee deserues that Name)\\r\\nDisdayning Fortune, with his brandisht Steele,\\r\\nWhich smoak'd with bloody execution\\r\\n(Like Valours Minion) caru'd out his passage,\\r\\nTill hee fac'd the Slaue:\\r\\nWhich neu'r shooke hands, nor bad farwell to him,\\r\\nTill he vnseam'd him from the Naue toth' Chops,\\r\\nAnd fix'd his Head vpon our Battlements\\r\\n\\r\\n   King. O valiant Cousin, worthy Gentleman\\r\\n\\r\\n   Cap. As whence the Sunne 'gins his reflection,\\r\\nShipwracking Stormes, and direfull Thunders:\\r\\nSo from that Spring, whence comfort seem'd to come,\\r\\nDiscomfort swells: Marke King of Scotland, marke,\\r\\nNo sooner Iustice had, with Valour arm'd,\\r\\nCompell'd these skipping Kernes to trust their heeles,\\r\\nBut the Norweyan Lord, surueying vantage,\\r\\nWith furbusht Armes, and new supplyes of men,\\r\\nBegan a fresh assault\\r\\n\\r\\n   King. Dismay'd not this our Captaines, Macbeth and\\r\\nBanquoh?\\r\\n  Cap. Yes, as Sparrowes, Eagles;\\r\\nOr the Hare, the Lyon:\\r\\nIf I say sooth, I must report they were\\r\\nAs Cannons ouer\",\n",
       " \"charg'd with double Cracks,\\r\\nSo they doubly redoubled stroakes vpon the Foe:\\r\\nExcept they meant to bathe in reeking Wounds,\\r\\nOr memorize another Golgotha,\\r\\nI cannot tell: but I am faint,\\r\\nMy Gashes cry for helpe\\r\\n\\r\\n   King. So well thy words become thee, as thy wounds,\\r\\nThey smack of Honor both: Goe get him Surgeons.\\r\\nEnter Rosse and Angus.\\r\\n\\r\\nWho comes here?\\r\\n  Mal. The worthy Thane of Rosse\\r\\n\\r\\n   Lenox. What a haste lookes through his eyes?\\r\\nSo should he looke, that seemes to speake things strange\\r\\n\\r\\n   Rosse. God saue the King\\r\\n\\r\\n   King. Whence cam'st thou, worthy Thane?\\r\\n  Rosse. From Fiffe, great King,\\r\\nWhere the Norweyan Banners flowt the Skie,\\r\\nAnd fanne our people cold.\\r\\nNorway himselfe, with terrible numbers,\\r\\nAssisted by that most disloyall Traytor,\\r\\nThe Thane of Cawdor, began a dismall Conflict,\\r\\nTill that Bellona's Bridegroome, lapt in proofe,\\r\\nConfronted him with selfe\"]"
      ]
     },
     "execution_count": 37,
     "metadata": {},
     "output_type": "execute_result"
    }
   ],
   "source": [
    "macbeth[:20]"
   ]
  },
  {
   "cell_type": "code",
   "execution_count": 6,
   "metadata": {},
   "outputs": [
    {
     "ename": "TypeError",
     "evalue": "unhashable type: 'list'",
     "output_type": "error",
     "traceback": [
      "\u001b[0;31m\u001b[0m",
      "\u001b[0;31mTypeError\u001b[0mTraceback (most recent call last)",
      "\u001b[0;32m<ipython-input-6-ecfb0d4504db>\u001b[0m in \u001b[0;36m<module>\u001b[0;34m()\u001b[0m\n\u001b[1;32m      2\u001b[0m \u001b[0;34m\u001b[0m\u001b[0m\n\u001b[1;32m      3\u001b[0m \u001b[0mdict_macbeth\u001b[0m \u001b[0;34m=\u001b[0m \u001b[0;34m{\u001b[0m\u001b[0;34m}\u001b[0m\u001b[0;34m\u001b[0m\u001b[0m\n\u001b[0;32m----> 4\u001b[0;31m \u001b[0mdict_macbeth\u001b[0m\u001b[0;34m.\u001b[0m\u001b[0mget\u001b[0m\u001b[0;34m(\u001b[0m\u001b[0mmacbeth\u001b[0m\u001b[0;34m)\u001b[0m\u001b[0;34m\u001b[0m\u001b[0m\n\u001b[0m\u001b[1;32m      5\u001b[0m \u001b[0;34m\u001b[0m\u001b[0m\n\u001b[1;32m      6\u001b[0m \u001b[0;31m# Pseudo-code Outline\u001b[0m\u001b[0;34m\u001b[0m\u001b[0;34m\u001b[0m\u001b[0m\n",
      "\u001b[0;31mTypeError\u001b[0m: unhashable type: 'list'"
     ]
    }
   ],
   "source": [
    "# Your code here\n",
    "\n",
    "dict_macbeth = {}\n",
    "dict_macbeth.get(macbeth)\n",
    "\n",
    "# Pseudo-code Outline\n",
    "# Split the transcript into words\n",
    "# Create a dictionary\n",
    "# Iterate through the text of Macbeth\n",
    "# Update word counts\n",
    "# Create Bar Graph\n",
    "# Include descriptive titles and labels"
   ]
  },
  {
   "cell_type": "code",
   "execution_count": 4,
   "metadata": {},
   "outputs": [
    {
     "data": {
      "text/plain": [
       "{}"
      ]
     },
     "execution_count": 4,
     "metadata": {},
     "output_type": "execute_result"
    }
   ],
   "source": [
    "dict_macbeth"
   ]
  },
  {
   "cell_type": "markdown",
   "metadata": {},
   "source": [
    "## Level Up (Optional)\n",
    "This project should take you about an hour and a half to complete. If you're done much more quickly than that and are not behind in the course, feel free to deepen your knowledge by completing any or all of the following tasks until you run out of time:\n",
    "* Create a list of top characters by mentions of their names \n",
    "* Split the text by which character is talking\n",
    "* Create subgraphs of the most common words by character\n",
    "* Reduce the string to the text of the play itself. (Remove any initial notes, forward, introduction, appendix, etc.)\n",
    "* Come up with some other fun analyses of the text!\n",
    "\n",
    "## Summary\n",
    "Congratulations! You've got some extra practice combining various data types into useful programming patterns and done an initial analysis of a classic text!"
   ]
  }
 ],
 "metadata": {
  "kernelspec": {
   "display_name": "Python 3",
   "language": "python",
   "name": "python3"
  },
  "language_info": {
   "codemirror_mode": {
    "name": "ipython",
    "version": 3
   },
   "file_extension": ".py",
   "mimetype": "text/x-python",
   "name": "python",
   "nbconvert_exporter": "python",
   "pygments_lexer": "ipython3",
   "version": "3.6.6"
  }
 },
 "nbformat": 4,
 "nbformat_minor": 2
}
